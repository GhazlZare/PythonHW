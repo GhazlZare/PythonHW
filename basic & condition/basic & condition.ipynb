{
 "cells": [
  {
   "cell_type": "markdown",
   "id": "fb7a8054",
   "metadata": {},
   "source": [
    "<div style=\"color: white;padding-top:0px;text-align:center;background-color:#257662;border-radius:15px;border: 1px solid white;\"> \n",
    "    <h3>Exercise 1 (score:350)</h3>\n",
    "</div>"
   ]
  },
  {
   "cell_type": "markdown",
   "id": "bd5458df",
   "metadata": {},
   "source": [
    "<div style=\"color: white;padding-top:0px;text-align:left;background-color:red;border-radius:15px;border: 1px solid white;\"> \n",
    "    <h4>Question 01 (Basic)(50):</h4>\n",
    "</div>"
   ]
  },
  {
   "cell_type": "code",
   "execution_count": 20,
   "id": "37ae1073-8e31-426a-ac70-111e4ffe2256",
   "metadata": {},
   "outputs": [
    {
     "name": "stdout",
     "output_type": "stream",
     "text": [
      " the int of 12.45 is 12\n",
      " the int of the '12.45' doesn't exist we should convert it to float and then to int\n",
      " the int of True is 1\n",
      " value error for the int of 'a123' \n",
      " the int of '0123' is 123\n",
      " the float of 10 is 10.0, 4.0 is 4.0, '4.7' is 4.7, '51' is 51.0\n",
      " could not convert string to float: 'python'\n",
      " the bool of False is False, 'False' is True, '' is False, ' ' is True, 0 is False\n",
      "0.0\n",
      " the str of False is False, 0.0 is 0.0\n"
     ]
    }
   ],
   "source": [
    "# convert to int\n",
    "num1 = 12.45\n",
    "new_num1 = int(num1)\n",
    "print(f\" the int of {num1} is {new_num1}\")\n",
    "num2 = \"12.45\"\n",
    "# new_num2 = int(num2) # we have a value error because the number in string has . and is float so we can't convert it to int\n",
    "print (\" the int of the '12.45' doesn't exist we should convert it to float and then to int\")\n",
    "flag1 = True\n",
    "new_flag1 = int(flag1)\n",
    "print(f\" the int of {flag1} is {new_flag1}\")\n",
    "code = \"a123\"\n",
    "# new_code = int(code) ====> value error because of a in a123\n",
    "print(f\" value error for the int of 'a123' \")\n",
    "num3 = \"0123\"\n",
    "new_num3 = int(num3)\n",
    "print(f\" the int of '{num3}' is {new_num3}\")\n",
    "\n",
    "# convert to float\n",
    "num4 = 10\n",
    "new_num4 = float(num4)\n",
    "num5 = 4.\n",
    "new_num5 = float(num5)\n",
    "num6 = \"4.7\"\n",
    "new_num6 = float(num6)\n",
    "num7 = \"51\"\n",
    "new_num7 = float(num7)\n",
    "print(f\" the float of {num4} is {new_num4}, {num5} is {new_num5}, '{num6}' is {new_num6}, '{num7}' is {new_num7}\")\n",
    "name = \"python\"\n",
    "#new_name = float(name) ====> error\n",
    "print(\" could not convert string to float: 'python'\")\n",
    "\n",
    "# convert to bool\n",
    "flag3 = False\n",
    "new_flag3 = bool(flag3)\n",
    "flag4 = \"False\"\n",
    "new_flag4 = bool(flag4)\n",
    "name1 = \"\"\n",
    "new_name1 = bool(name1)\n",
    "name2 = \" \"\n",
    "new_name2 = bool(name2)\n",
    "num8 = 0\n",
    "new_num8 = bool(num8)\n",
    "print(f\" the bool of {flag3} is {new_flag3}, '{flag4}' is {new_flag4}, '{name1}' is {new_name1}, '{name2}' is {new_name2}, {num8} is {new_num8}\")\n",
    "\n",
    "# convert to str\n",
    "flag = False\n",
    "new_flag = str(flag)\n",
    "num = 0.000\n",
    "new_num = str(num)\n",
    "print(f\" the str of {flag} is {new_flag}, {num} is {new_num}\")"
   ]
  },
  {
   "cell_type": "markdown",
   "id": "1d00f89c",
   "metadata": {},
   "source": [
    "<div style=\"color: white;padding-top:0px;text-align:left;background-color:red;border-radius:15px;border: 1px solid white;\"> \n",
    "    <h4>Question 02 (Basic)(50)</h4>\n",
    "</div>"
   ]
  },
  {
   "cell_type": "code",
   "execution_count": 26,
   "id": "3816d8c6-4af5-4d92-8c4b-042a7f86fb7e",
   "metadata": {},
   "outputs": [],
   "source": [
    "x = \"300\"\n",
    "y = int(x) #300\n",
    "z = y + 200 #500\n",
    "a = float(z) # 500.\n",
    "#b = a + x # error we can't use sum operation for str and float\n",
    "# fix : we convert str to int or float\n",
    "b = int(x) + a #800\n",
    "c = int(b) + 100 #900\n",
    "print(c)\n"
   ]
  },
  {
   "cell_type": "code",
   "execution_count": 31,
   "id": "37176ce0",
   "metadata": {},
   "outputs": [
    {
     "name": "stdout",
     "output_type": "stream",
     "text": [
      "41625\n"
     ]
    }
   ],
   "source": [
    "x = \"250\"\n",
    "y = int(x) #250\n",
    "z = y // 3 #83 tip: // the answer is always int\n",
    "a = str(z) # \"83\"\n",
    "b = a + x  # \"83250\"\n",
    "c = int(b) // 2 #41625\n",
    "print (c)\n"
   ]
  },
  {
   "cell_type": "markdown",
   "id": "db081bf6",
   "metadata": {},
   "source": [
    "<div style=\"color: white;padding-top:0px;text-align:left;background-color:red;border-radius:15px;border: 1px solid white;\"> \n",
    "    <h4>Question 03 (Basic)(50)</h4>\n",
    "</div>"
   ]
  },
  {
   "cell_type": "code",
   "execution_count": 3,
   "id": "365f6809-06ab-43ce-8f15-eb94e950723c",
   "metadata": {},
   "outputs": [
    {
     "name": "stdout",
     "output_type": "stream",
     "text": [
      "True\n"
     ]
    }
   ],
   "source": [
    "true_inputs = [\"yes\", \"no\"]\n",
    "user_input = input(\"please enter your string: \")\n",
    "test = user_input in true_inputs\n",
    "print(test)"
   ]
  },
  {
   "cell_type": "markdown",
   "id": "685a1886",
   "metadata": {},
   "source": [
    "<div style=\"color: white;padding-top:0px;text-align:left;background-color:red;border-radius:15px;border: 1px solid white;\"> \n",
    "    <h4>Question 04 (Basic)(50)</h4>\n",
    "</div>"
   ]
  },
  {
   "cell_type": "code",
   "execution_count": 11,
   "id": "13d828cf-b55b-4486-b176-a6a73ff3ca23",
   "metadata": {},
   "outputs": [
    {
     "name": "stdout",
     "output_type": "stream",
     "text": [
      "True\n"
     ]
    }
   ],
   "source": [
    "true_inputs = [\"\"]\n",
    "user_input = input(\"please enter your string: \")\n",
    "test = user_input in true_inputs\n",
    "print( not test)"
   ]
  },
  {
   "cell_type": "markdown",
   "id": "7498e245-7d08-4954-a7de-08f891427cc1",
   "metadata": {},
   "source": [
    "<div style=\"color: white;padding-top:0px;text-align:left;background-color:red;border-radius:15px;border: 1px solid white;\"> \n",
    "    <h4>Question 05 (Basic)(50)</h4>\n",
    "</div>"
   ]
  },
  {
   "cell_type": "code",
   "execution_count": 12,
   "id": "e70e6a6b-5c16-4135-9e76-c459febfa6eb",
   "metadata": {},
   "outputs": [
    {
     "name": "stdout",
     "output_type": "stream",
     "text": [
      "68.0Fahrenheit\n"
     ]
    }
   ],
   "source": [
    "temp = float(input(\"enter the temperature in celsius: \"))\n",
    "f_temp = temp * 1.8 + 32\n",
    "print(f\"{f_temp}Fahrenheit\")"
   ]
  },
  {
   "cell_type": "markdown",
   "id": "631be292-3395-46eb-9244-2a5f44997d82",
   "metadata": {},
   "source": [
    "<div style=\"color: white;padding-top:0px;text-align:left;background-color:red;border-radius:15px;border: 1px solid white;\"> \n",
    "    <h4>Question 06 (Basic)(50)</h4>\n",
    "</div>"
   ]
  },
  {
   "cell_type": "code",
   "execution_count": 16,
   "id": "64767ede-9a93-4da2-ad6a-011d81fe414d",
   "metadata": {},
   "outputs": [
    {
     "name": "stdout",
     "output_type": "stream",
     "text": [
      "30 20\n"
     ]
    }
   ],
   "source": [
    "num1, num2, num3 = 17, 1.8, 28 #num1 = 17 , num2 = 1.8, num3 = 28\n",
    "#num4, num5 = 45, 12, 19 # error : too many values to unpack (expected 2). 2 variables and 3 values\n",
    "# fix: to fix this error I omitted the extra value\n",
    "num4, num5 = 45, 12\n",
    "#num6, num7, num8 = 200, 300 # Error : not enough values for variables\n",
    "# Fix : I add one more value\n",
    "num6, num7, num8 = 200, 300, 400\n",
    "var1 = var2 = var3 = 500\n",
    "\n",
    "num1 = 20\n",
    "num2 = 30\n",
    "num1, num2 = num2, num1 #exchanging the values.\n",
    "print(num1, num2)"
   ]
  },
  {
   "cell_type": "markdown",
   "id": "cb8bde05",
   "metadata": {},
   "source": [
    "<div style=\"color: white;padding-top:18px;text-align:left;background-color:red;border-radius:15px;border: 1px solid white;\"> \n",
    "    <h4>Question 05 (String)(80)</h4>\n",
    "<p> Write a program that prompts the user to enter a password. The program\n",
    "should validate the password based on the following criteria</p>\n",
    "\n",
    "</div>"
   ]
  },
  {
   "cell_type": "raw",
   "id": "fc5d6ee9",
   "metadata": {},
   "source": [
    "The length of the password must be exactly 8 characters.\n",
    "The first four characters of the password must be letters (alphabets).\n",
    "The last four characters of the password must be digits (numbers).\n",
    "If the password meets all the above criteria, the program should display \"Valid\".\n",
    "Otherwise, it should display \"Invalid\"."
   ]
  },
  {
   "cell_type": "code",
   "execution_count": 18,
   "id": "a04b6d1f",
   "metadata": {},
   "outputs": [
    {
     "name": "stdout",
     "output_type": "stream",
     "text": [
      "len : 4 \n",
      "part1: 12 \n",
      "part2: 34\n",
      "Invalid\n"
     ]
    }
   ],
   "source": [
    "# write code here: \n",
    "\n",
    "password = input(\"Enter Your Password: \")\n",
    "\n",
    "len_pass = len(password)\n",
    "\n",
    "middle = len_pass//2\n",
    "\n",
    "part1 = password[:middle]\n",
    "\n",
    "part2 = password[middle:]\n",
    "\n",
    "print(\"len :\",len_pass,\"\\npart1:\",part1,\"\\npart2:\",part2)\n",
    "\n",
    "if len_pass == 8 and part1.isalpha() and part2.isdigit():\n",
    "    \n",
    "    print(\"Valid\")\n",
    "    \n",
    "else:\n",
    "    \n",
    "    print(\"Invalid\")"
   ]
  },
  {
   "cell_type": "markdown",
   "id": "f4491296",
   "metadata": {},
   "source": [
    "<div style=\"color: white;padding-top:0px;text-align:center;background-color:#257662;border-radius:15px;border: 1px solid white;\"> \n",
    "    <h3>Exercise 2 (score:200)</h3>\n",
    "</div>"
   ]
  },
  {
   "cell_type": "markdown",
   "id": "360428f2",
   "metadata": {},
   "source": [
    "<div style=\"color: white;padding-top:0px;text-align:left;background-color:red;border-radius:15px;border: 1px solid white;\"> \n",
    "    <h4>Question 01 (Condition)(50)</h4>\n",
    "</div>"
   ]
  },
  {
   "cell_type": "code",
   "execution_count": 20,
   "id": "b5e76b02-d935-45b4-aa63-c23ec3282906",
   "metadata": {},
   "outputs": [
    {
     "name": "stdout",
     "output_type": "stream",
     "text": [
      "Consonant\n"
     ]
    }
   ],
   "source": [
    "letter = str(input(\"enter yor letter: \"))\n",
    "vowels = [ \"a\", \"o\", \"i\", \"u\", \"e\"]\n",
    "if letter in vowels:\n",
    "    print(\"Vowel\")\n",
    "else :\n",
    "    print(\"Consonant\")"
   ]
  },
  {
   "cell_type": "markdown",
   "id": "3a869f83",
   "metadata": {},
   "source": [
    "<div style=\"color: white;padding-top:0px;text-align:left;background-color:red;border-radius:15px;border: 1px solid white;\"> \n",
    "    <h4>Question 02 (Condition)(50)</h4>\n",
    "</div>"
   ]
  },
  {
   "cell_type": "code",
   "execution_count": 23,
   "id": "b5fdaf97-807f-495b-8e42-3bac23a8b14a",
   "metadata": {},
   "outputs": [
    {
     "name": "stdout",
     "output_type": "stream",
     "text": [
      " In range\n"
     ]
    }
   ],
   "source": [
    "number = int(input(\"enter your number: \"))\n",
    "if number > 10 and number < 20 : # within 10 to 20. not including 10 and 20\n",
    "    print(\" In range\")\n",
    "else:\n",
    "    print(\"Out of Range\")"
   ]
  },
  {
   "cell_type": "markdown",
   "id": "e3adf415",
   "metadata": {},
   "source": [
    "<div style=\"color: white;padding-top:0px;text-align:left;background-color:red;border-radius:15px;border: 1px solid white;\"> \n",
    "    <h4>Question 03 (Condition)(50)</h4>\n",
    "</div>"
   ]
  },
  {
   "cell_type": "code",
   "execution_count": 28,
   "id": "d5329c84-1107-41d7-ad15-681a0442828c",
   "metadata": {},
   "outputs": [
    {
     "name": "stdout",
     "output_type": "stream",
     "text": [
      "Not Greater\n"
     ]
    }
   ],
   "source": [
    "num1 = int(input(\"enter the first number: \"))\n",
    "num2 = int(input(\"enter the second number: \"))\n",
    "sum = num1 + num2\n",
    "if sum > 20 :\n",
    "    print(\"Greater\")\n",
    "else:\n",
    "    print(\"Not Greater\")"
   ]
  },
  {
   "cell_type": "markdown",
   "id": "3eb93eb1",
   "metadata": {},
   "source": [
    "<div style=\"color: white;padding-top:0px;text-align:left;background-color:red;border-radius:15px;border: 1px solid white;\"> \n",
    "    <h4>Question 04 (Condition)(50)</h4>\n",
    "</div>"
   ]
  },
  {
   "cell_type": "code",
   "execution_count": 32,
   "id": "99937553-2a26-4787-b365-d46f41243c5e",
   "metadata": {},
   "outputs": [
    {
     "name": "stdout",
     "output_type": "stream",
     "text": [
      "No color match\n"
     ]
    }
   ],
   "source": [
    "color1 = str(input(\" enter your first color: \"))\n",
    "color2 = str(input(\" enter your second color: \"))\n",
    "color3 = str(input(\" enter your third color: \"))\n",
    "if color1 == color2 and color2 == color3 :\n",
    "    print(\"All colors match\")\n",
    "elif color1 == color2 or color2 == color3 or color1 == color3 :\n",
    "    print (\"Two colors match\")\n",
    "else:\n",
    "    print(\"No color match\")"
   ]
  },
  {
   "cell_type": "markdown",
   "id": "293056e3",
   "metadata": {},
   "source": [
    "<h2 style=\"color: blue:; background-color: purple\">Good luck</h2>"
   ]
  }
 ],
 "metadata": {
  "kernelspec": {
   "display_name": "Python 3 (ipykernel)",
   "language": "python",
   "name": "python3"
  },
  "language_info": {
   "codemirror_mode": {
    "name": "ipython",
    "version": 3
   },
   "file_extension": ".py",
   "mimetype": "text/x-python",
   "name": "python",
   "nbconvert_exporter": "python",
   "pygments_lexer": "ipython3",
   "version": "3.12.0"
  }
 },
 "nbformat": 4,
 "nbformat_minor": 5
}
