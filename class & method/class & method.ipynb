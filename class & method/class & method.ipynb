{
 "cells": [
  {
   "cell_type": "markdown",
   "id": "ead54e1a",
   "metadata": {},
   "source": [
    "<div style=\"color: white;padding-top:18px;text-align:center;background-color:#610C9F;border-radius:15px;border: 1px solid white;\"> \n",
    "    <h3>Exercise 13 (score:300 + 50(GitHub)\n",
    "    )</h3>\n",
    "</div>"
   ]
  },
  {
   "cell_type": "markdown",
   "id": "9986a78d",
   "metadata": {},
   "source": [
    "<div style=\"color: white;padding-top:18px;text-align:left;background-color:#940B92;border-radius:15px;border: 1px solid white;\"> \n",
    "    <h4>Question 01 (OOP)(100):</h4>\n",
    "    <p>Create a class Rectangle with attributes length and width and methods area(),\n",
    "</p>\n",
    "<p>perimeter() and display()for show length and width. Test your class by creating</p>\n",
    "<p>two objects and call attributes and methods forthis objects</p>\n",
    "</div>"
   ]
  },
  {
   "cell_type": "code",
   "execution_count": 17,
   "id": "7710ae23",
   "metadata": {},
   "outputs": [
    {
     "name": "stdout",
     "output_type": "stream",
     "text": [
      "84\n",
      "50\n",
      "Length: 7, Width: 12\n",
      "Length: 5, Width: 20\n"
     ]
    }
   ],
   "source": [
    "class Rectangle:\n",
    "    def __init__(self, length, width):\n",
    "        self.r_length = length\n",
    "        self.r_width = width\n",
    "    \n",
    "    def area(self):\n",
    "        area_ = self.r_width * self.r_length\n",
    "        print(area_)\n",
    "\n",
    "    def perimiter(self):\n",
    "        perimeter = self.r_length * 2 + self.r_width * 2\n",
    "        return perimeter\n",
    "\n",
    "    def display(self):\n",
    "        return f\"Length: {self.r_length}, Width: {self.r_width}\"\n",
    "\n",
    "rect1 = Rectangle(7, 12)\n",
    "rect2 = Rectangle(5, 20)\n",
    "rect1.area()\n",
    "print(rect2.perimiter())\n",
    "print(rect1.display())\n",
    "print(rect2.display())\n",
    "\n"
   ]
  },
  {
   "cell_type": "markdown",
   "id": "488e01d2",
   "metadata": {},
   "source": [
    "<div style=\"color: white;padding-top:18px;text-align:left;background-color:#940B92;border-radius:15px;border: 1px solid white;\"> \n",
    "    <h4>Question 02 (OOP)(100)</h4>\n",
    "<p> Create a Class Calculator</p>\n",
    "<p>Methods: Should include at least add(x, y), subtract(x, y), multiply(x, y), \n",
    "and divide(x, y). Each method performs the respective operation and \n",
    "returns the result.</p>"
   ]
  },
  {
   "cell_type": "code",
   "execution_count": 1,
   "id": "0d6db2ad",
   "metadata": {},
   "outputs": [
    {
     "name": "stdout",
     "output_type": "stream",
     "text": [
      "16\n",
      "3\n",
      "14\n",
      "Error:0 can not be in division\n",
      "1.75\n"
     ]
    }
   ],
   "source": [
    "class Calculator:\n",
    "    def add(self, x, y):\n",
    "        return x + y\n",
    "\n",
    "    def subtract(self, x, y):\n",
    "        return x - y\n",
    "\n",
    "    def multiply(self, x, y):\n",
    "        return x * y\n",
    "\n",
    "    def divide(self, x, y):\n",
    "        if y == 0:\n",
    "            return f\"Error:{y} can not be in division\"\n",
    "        return x / y\n",
    "\n",
    "cal1 = Calculator()\n",
    "print(cal1.add(5, 11))\n",
    "print(cal1.subtract(6, 3))\n",
    "print(cal1.multiply(7, 2))\n",
    "print(cal1.divide(3, 0))  \n",
    "print(cal1.divide(14, 8))\n",
    "    \n"
   ]
  },
  {
   "cell_type": "markdown",
   "id": "021be85c",
   "metadata": {},
   "source": [
    "<div style=\"color: white;padding-top:18px;text-align:left;background-color:#940B92;border-radius:15px;border: 1px solid white;\"> \n",
    "    <h4>Question 03 (OOP)(100)</h4>\n",
    "<p><b>Class Counter</b></p>\n",
    "<p>Attribute: count, initially set to zero.</p>\n",
    "<p>Methods:</p>\n",
    " <p>increment(): Increments count by 1.</p>\n",
    " <p>decrement(): Decrements count by 1, but never below zero.</p>\n",
    " <p>reset(): Resets count to zero.</p>\n",
    " <p>get_count(): Returns the current value of count</p>\n",
    "</div>"
   ]
  },
  {
   "cell_type": "code",
   "execution_count": 21,
   "id": "32b3c29d",
   "metadata": {},
   "outputs": [
    {
     "name": "stdout",
     "output_type": "stream",
     "text": [
      "Initial Count: 0\n",
      "2\n",
      "1\n",
      "0\n",
      "1\n",
      "0\n"
     ]
    }
   ],
   "source": [
    "class Counter:\n",
    "    def __init__(self):\n",
    "        self.count = 0 \n",
    "\n",
    "    def increment(self):\n",
    "        self.count += 1\n",
    "\n",
    "    def decrement(self):\n",
    "        if self.count > 0:\n",
    "            self.count -= 1\n",
    "\n",
    "    def reset(self):\n",
    "        self.count = 0\n",
    "\n",
    "    def get_count(self):\n",
    "        return self.count\n",
    "\n",
    "counter = Counter()\n",
    "print(counter.get_count())\n",
    "counter.increment() #1\n",
    "counter.increment() #2\n",
    "print(counter.get_count()) #2\n",
    "counter.decrement() #1\n",
    "print(counter.get_count()) #1\n",
    "counter.decrement() #0\n",
    "counter.decrement() #0\n",
    "print(counter.get_count()) #0\n",
    "counter.increment() #1\n",
    "print(counter.get_count()) #1\n",
    "counter.reset() #0\n",
    "print(counter.get_count()) #0\n"
   ]
  },
  {
   "cell_type": "markdown",
   "id": "0e2c870c",
   "metadata": {},
   "source": [
    "<div style=\"color: white;padding-top:18px;text-align:center;background-color:#610C9F;border-radius:15px;border: 1px solid white;\"> \n",
    "    <h3>Exercise 14 (score:200 + 50(GitHub)\n",
    "    )</h3>\n",
    "</div>"
   ]
  },
  {
   "cell_type": "markdown",
   "id": "98cda4ff",
   "metadata": {},
   "source": [
    "<div style=\"color: white;padding-top:18px;text-align:left;background-color:#940B92;border-radius:15px;border: 1px solid white;\"> \n",
    "    <h4>Question 01 (methods, attribute)(200)</h4>\n",
    "<p>You need to create a Python class Book with the following specifications:<p>\n",
    "<p>Each book has a id,title, year, author, price, and discount(all provided when the book is\n",
    "created).<p>\n",
    "<p>The id of each book follows a specific format:the firsttwo characters should be letters,and the lasttwo should be digits (e.g.,\"AB12\"). Ifthe ID is not valid,raise a ValueError.<p>\n",
    "<p>The class should include a method to calculate the total price ofthe book. The total price is calculated as the book’s price minus the discount.<p>\n",
    "<p>Include a method that prints how many books have been created.<p>\n",
    "<p>Implementthe __str__ method thatreturns a string representing the book’s details in\n",
    "the following format: \"Title:{title}, Author:{author}, Year:{year}, Price:{total_price}\".<p>\n",
    "\n",
    "</div>"
   ]
  },
  {
   "cell_type": "code",
   "execution_count": 32,
   "id": "e3856ce6",
   "metadata": {},
   "outputs": [
    {
     "name": "stdout",
     "output_type": "stream",
     "text": [
      "Title: A Court of Thorns and Roses, Author: Sarah J. Maas, Year: 2015, Price: 39.8\n",
      "Title: Pride and Prejudice, Author: Jane Austen, Year: 1813, Price: 99.0\n",
      "Total Books Created: 2\n",
      "Invalid book ID format. Must be two letters followed by two digits like 'AB12'.\n"
     ]
    }
   ],
   "source": [
    "class Book:\n",
    "    number_of_books = 0 \n",
    "    def __init__(self, book_id, title, year, author, price, discount):\n",
    "        self.set_id(book_id)\n",
    "        self.title = title\n",
    "        self.year = year\n",
    "        self.author = author\n",
    "        self.price = price\n",
    "        self.discount = discount\n",
    "        Book.number_of_books += 1 \n",
    "\n",
    "    def set_id(self, book_id):\n",
    "        if len(book_id) != 4 or not (book_id[:2].isalpha() and book_id[2:].isdigit()):\n",
    "            raise ValueError(\"Invalid book ID format. Must be two letters followed by two digits like 'AB12'.\")\n",
    "        self.book_id = book_id\n",
    "\n",
    "    def total_price(self):\n",
    "        \"\"\"Calculate the total price after discount.\"\"\"\n",
    "        return self.price - self.discount\n",
    "\n",
    "    @classmethod\n",
    "    def get_book_count(cls):\n",
    "        \"\"\"Return the number of books created.\"\"\"\n",
    "        return cls.number_of_books\n",
    "\n",
    "    def __str__(self):\n",
    "        \"\"\"Return a string representing the book's details.\"\"\"\n",
    "        return f\"Title: {self.title}, Author: {self.author}, Year: {self.year}, Price: {self.total_price()}\"\n",
    "\n",
    "book1 = Book(\"gh13\", \"A Court of Thorns and Roses\", 2015, \"Sarah J. Maas\", 47.0, 7.2)\n",
    "book2 = Book(\"al71\", \"Pride and Prejudice\", 1813, \"Jane Austen\", 99.0, 0.0)\n",
    "print(book1)\n",
    "print(book2)\n",
    "print(\"Total Books Created:\", Book.get_book_count())\n",
    "try:\n",
    "    book3 = Book(\"1234\", \"Girl, Stop Apologizing\", 2019, \"Rachel Hollis\", 33.0, 3.0)\n",
    "except ValueError as e:\n",
    "    print(e)\n"
   ]
  }
 ],
 "metadata": {
  "kernelspec": {
   "display_name": "Python 3 (ipykernel)",
   "language": "python",
   "name": "python3"
  },
  "language_info": {
   "codemirror_mode": {
    "name": "ipython",
    "version": 3
   },
   "file_extension": ".py",
   "mimetype": "text/x-python",
   "name": "python",
   "nbconvert_exporter": "python",
   "pygments_lexer": "ipython3",
   "version": "3.12.0"
  }
 },
 "nbformat": 4,
 "nbformat_minor": 5
}
